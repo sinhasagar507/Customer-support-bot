{
 "cells": [
  {
   "cell_type": "markdown",
   "metadata": {},
   "source": [
    "# My Approach: Heuristic Intent Distribution Exploration\n",
    "- I need to get an insight into the true intents inside my Twitter data. Doing it by keyword might prove to be a good baseline way to do this. "
   ]
  },
  {
   "cell_type": "code",
   "execution_count": null,
   "metadata": {},
   "outputs": [],
   "source": []
  }
 ],
 "metadata": {
  "language_info": {
   "name": "python"
  }
 },
 "nbformat": 4,
 "nbformat_minor": 2
}
