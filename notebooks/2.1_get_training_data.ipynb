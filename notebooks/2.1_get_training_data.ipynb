{
 "cells": [
  {
   "cell_type": "code",
   "execution_count": 1,
   "metadata": {},
   "outputs": [
    {
     "name": "stdout",
     "output_type": "stream",
     "text": [
      "Requirement already satisfied: numpy==1.26.4 in /Library/Frameworks/Python.framework/Versions/3.12/lib/python3.12/site-packages (1.26.4)\n",
      "\n",
      "\u001b[1m[\u001b[0m\u001b[34;49mnotice\u001b[0m\u001b[1;39;49m]\u001b[0m\u001b[39;49m A new release of pip is available: \u001b[0m\u001b[31;49m24.0\u001b[0m\u001b[39;49m -> \u001b[0m\u001b[32;49m24.1.1\u001b[0m\n",
      "\u001b[1m[\u001b[0m\u001b[34;49mnotice\u001b[0m\u001b[1;39;49m]\u001b[0m\u001b[39;49m To update, run: \u001b[0m\u001b[32;49mpip3 install --upgrade pip\u001b[0m\n"
     ]
    }
   ],
   "source": [
    "!pip3 install numpy==1.26.4"
   ]
  },
  {
   "cell_type": "code",
   "execution_count": 1,
   "metadata": {},
   "outputs": [],
   "source": [
    "import math\n",
    "import pickle as pkl\n",
    "\n",
    "from tqdm import tqdm\n",
    "tqdm.pandas()\n",
    "\n",
    "import yaml\n",
    "import pandas as pd\n",
    "import numpy as np\n",
    "from numpy import triu\n",
    "from nltk.tokenize import word_tokenize, TweetTokenizer\n",
    "from gensim.models.doc2vec import Doc2Vec, TaggedDocument"
   ]
  },
  {
   "cell_type": "code",
   "execution_count": 14,
   "metadata": {},
   "outputs": [
    {
     "name": "stdout",
     "output_type": "stream",
     "text": [
      "showing info https://raw.githubusercontent.com/nltk/nltk_data/gh-pages/index.xml\n"
     ]
    },
    {
     "data": {
      "text/plain": [
       "True"
      ]
     },
     "execution_count": 14,
     "metadata": {},
     "output_type": "execute_result"
    }
   ],
   "source": [
    "import nltk \n",
    "import ssl\n",
    "\n",
    "try:\n",
    "    _create_unverified_https_context = ssl._create_unverified_context\n",
    "except AttributeError:\n",
    "    pass\n",
    "else:\n",
    "    ssl._create_default_https_context = _create_unverified_https_context\n",
    "\n",
    "nltk.download()"
   ]
  },
  {
   "cell_type": "code",
   "execution_count": 3,
   "metadata": {},
   "outputs": [
    {
     "data": {
      "text/plain": [
       "4     different people have given different answers ...\n",
       "5     way to drop the ball on customer service so pi...\n",
       "6     i want my amazon payments account closed dm me...\n",
       "9     yeah this is crazy were less than a week away ...\n",
       "10    how about you guys figure out my xbox one x pr...\n",
       "Name: clean_inbound_text, dtype: object"
      ]
     },
     "execution_count": 3,
     "metadata": {},
     "output_type": "execute_result"
    }
   ],
   "source": [
    "# Read in the processed data and the processed inbound dataset \n",
    "processed_df = pd.read_pickle(\"../data/processed/processed_v2.pkl\")\n",
    "processed_inbound_extra = processed_df[\"clean_inbound_text\"]\n",
    "processed_inbound_extra.head()"
   ]
  },
  {
   "cell_type": "code",
   "execution_count": 15,
   "metadata": {},
   "outputs": [],
   "source": [
    "# Reset the index. Set it properly in this iteration \n",
    "processed_df = processed_df.reset_index(drop=True)\n",
    "processed_inbound_extra = processed_inbound_extra.reset_index(drop=True)"
   ]
  },
  {
   "cell_type": "code",
   "execution_count": 5,
   "metadata": {},
   "outputs": [
    {
     "data": {
      "text/plain": [
       "inbound_text               0\n",
       "author_id                  0\n",
       "created_at                 0\n",
       "outbound_text              0\n",
       "response_tweet_id      60327\n",
       "inbound_lang               0\n",
       "inbound_hashtags           0\n",
       "outbound_hashtags          0\n",
       "clean_inbound_text         0\n",
       "clean_outbound_text        0\n",
       "outbound_tokens_pos        0\n",
       "inbound_tokens_pos         0\n",
       "dtype: int64"
      ]
     },
     "execution_count": 5,
     "metadata": {},
     "output_type": "execute_result"
    }
   ],
   "source": [
    "# Check for some null values \n",
    "processed_df.isnull().sum()"
   ]
  },
  {
   "cell_type": "code",
   "execution_count": 16,
   "metadata": {},
   "outputs": [
    {
     "name": "stdout",
     "output_type": "stream",
     "text": [
      "\n",
      "intents:\n",
      "{'track': ['tracking', 'order', 'shipment', 'late', 'status', 'carrier', 'update', 'number', 'info', 'received', 'details'], 'support': ['service'], 'quality': ['quality', 'product', 'damaged', 'received', 'refund', 'return', 'issue', 'order', 'packaging', 'proper', 'working', 'expected', 'different'], 'discount': ['prime', 'product', 'offer', 'price', 'sale'], 'account': ['email', 'orders', 'details', 'bank', 'access']}\n",
      "\n",
      "processed:\n",
      "                                        inbound_text   author_id  \\\n",
      "0  @AmazonHelp 3 different people have given 3 di...  AmazonHelp   \n",
      "1  Way to drop the ball on customer service @1158...  AmazonHelp   \n",
      "2  @115823 I want my amazon payments account CLOS...  AmazonHelp   \n",
      "3  @AmazonHelp @115826 Yeah this is crazy we’re l...  AmazonHelp   \n",
      "4  @115828 How about you guys figure out my Xbox ...  AmazonHelp   \n",
      "\n",
      "                  created_at  \\\n",
      "0  2017-10-31 23:28:00+00:00   \n",
      "1  2017-10-31 22:29:00+00:00   \n",
      "2  2017-10-31 22:28:34+00:00   \n",
      "3  2017-11-01 12:53:34+00:00   \n",
      "4  2017-10-31 22:28:00+00:00   \n",
      "\n",
      "                                       outbound_text response_tweet_id  \\\n",
      "0  @115820 We'd like to take a further look into ...               619   \n",
      "1  @115820 I'm sorry we've let you down! Without ...               616   \n",
      "2  @115822 I am unable to affect your account via...               NaN   \n",
      "3              @115827 Thanks for your patience. ^KM               NaN   \n",
      "4  @115826 I'm sorry for the wait. You'll receive...               627   \n",
      "\n",
      "  inbound_lang inbound_hashtags outbound_hashtags  \\\n",
      "0           en               []                []   \n",
      "1           en               []                []   \n",
      "2           en               []                []   \n",
      "3           en               []                []   \n",
      "4           en               []                []   \n",
      "\n",
      "                                  clean_inbound_text  \\\n",
      "0  different people have given different answers ...   \n",
      "1  way to drop the ball on customer service so pi...   \n",
      "2  i want my amazon payments account closed dm me...   \n",
      "3  yeah this is crazy were less than a week away ...   \n",
      "4  how about you guys figure out my xbox one x pr...   \n",
      "\n",
      "                                 clean_outbound_text  \\\n",
      "0  wed like to take a further look into this with...   \n",
      "1  i am sorry we have let you down without provid...   \n",
      "2  i am unable to affect your account via twitter...   \n",
      "3                        thanks for your patience km   \n",
      "4  i am sorry for the wait you will receive an em...   \n",
      "\n",
      "                                 outbound_tokens_pos  \\\n",
      "0  [-PRON-: NOUN, d: VERB, like: VERB, to: NOUN, ...   \n",
      "1  [i: NOUN, be: NOUN, sorry: NOUN, -PRON-: NOUN,...   \n",
      "2  [i: NOUN, be: NOUN, unable: NOUN, to: NOUN, af...   \n",
      "3  [thank: NOUN, for: NOUN, -PRON-: NOUN, patienc...   \n",
      "4  [i: NOUN, be: NOUN, sorry: NOUN, for: NOUN, th...   \n",
      "\n",
      "                                  inbound_tokens_pos  \n",
      "0  [different: NOUN, people: NOUN, have: NOUN, gi...  \n",
      "1  [way: NOUN, to: NOUN, drop: VERB, the: NOUN, b...  \n",
      "2  [i: NOUN, want: VERB, -PRON-: NOUN, amazon: NO...  \n",
      "3  [yeah: NOUN, this: NOUN, be: NOUN, crazy: NOUN...  \n",
      "4  [how: NOUN, about: NOUN, -PRON-: NOUN, guy: NO...  \n"
     ]
    }
   ],
   "source": [
    "# Read in the intents back \n",
    "with open(r\"../objects/intents_amazon_support.yml\") as file:\n",
    "    intents = yaml.load(file, Loader=yaml.FullLoader)\n",
    "\n",
    "# Previewing\n",
    "print(f'\\nintents:\\n{intents}')\n",
    "print(f'\\nprocessed:\\n{processed_df.head()}')"
   ]
  },
  {
   "cell_type": "markdown",
   "metadata": {},
   "source": [
    "## Tweet Collection with Doc2Vec \n",
    "I can use my Doc2Vec representation to find top 1000 Tweets most similar to a generalized intent version of a Tweet based on it's cosine similarity. \n",
    "\n",
    "Heuristic search refers to a search strategy that attempts to optimize a problem by iteratively improving the solution based on a given heuristic function or a cost measure. My cost measure is trying to get the closest cosine distances.\n",
    "\n",
    "So I basically trained my doc2vec model with my training data, which is the `processed_inbound`. I can actually compute a vector based on my training data to vectorize that word."
   ]
  },
  {
   "cell_type": "markdown",
   "metadata": {},
   "source": [
    "## Training my Doc2Vec \n",
    "\n",
    "### Data Synthesis \n",
    "Basically, there are 2 ways I can get my current training data (1000 for each)\n",
    "* **Doc2Vec:** Some intent examples I will synthetically generate from an idealized example using doc2vec\n",
    "* **Manual:** Some intent examples I will synthetically generate by duplicating and manual (like greeting, because the current data does not represent this)\n",
    "* **Hybrid:** Some intents I will do a hybrid approach, where 50 percent might be my generated data, and 50 percent might be "
   ]
  },
  {
   "cell_type": "code",
   "execution_count": 1,
   "metadata": {},
   "outputs": [],
   "source": [
    "#TODO: Add information about Doc2Vec or post a link to it over here "
   ]
  },
  {
   "cell_type": "code",
   "execution_count": 17,
   "metadata": {},
   "outputs": [],
   "source": [
    "# Creating a synthetic dataset - generating N Tweets resembling a mock tweet\n",
    "# This will subsequently be merged with the existing inbound data for inclusion in the doc2vec training process\n",
    "\n",
    "# Version 1 - will be improved in future iterations\n",
    "ideal = {\n",
    "            \"order track\": \"@AmazonHelo Hi, could you provide an update on the order? Its been days since the product has moved from its last location \", # change intent to \"order tracking\"???\n",
    "            \"product inquiry\": \"@AmazonHelp Looking for more info on the product. Can you share details or direct me to a reliable source?\", # product inquire??? \n",
    "            \"return refund\": \"@AmazonHelp How can I start a return process? The item I received doesn't match the description.\",\n",
    "            \"account management\": \"@AmazonHelp Hi, I am having trouble logging into my account. Can you help me reset my password?\", \n",
    "            \"promotion discount\": \"@AmazonHelp Are there any ongoing promotions or deals in the ongoing festive season? Looking to buy a few items.\",\n",
    "            \"shipping\": \"@AmazonHelp Hi, My address has changed. Can you help me update the shipping address for my order?\",\n",
    "            \"technical support\": \"@AmazonHelp Encountering errors during checkout. Can you help me troubleshoot the issue?\",\n",
    "            \"payment issue\": \"@AmazonHelp My payment method isn't going through. Any suggestions on how to resolve this?\",\n",
    "            \"general query\": \"@AmazonHelp Hi, I have a general question regarding the product. Can you help me with this?\"\n",
    "        }\n",
    "\n",
    "# Version 2 - Here I will try writing some more intent items \n",
    "ideal_tag_dict = {\n",
    "                    \"track\": \"tracking order shipoment late status carrier update number info received details\", \n",
    "                    \"support\": \"support chat customer resolution feedback satisfaction\",\n",
    "                    \"quality\": \"quality product damaged received refund return issue order packaging proper working expected different\", \n",
    "                    \"discount\": \"prime product offer price sale\", \n",
    "                    \"account\": \"email orders details bank access\"\n",
    "                }"
   ]
  },
  {
   "cell_type": "code",
   "execution_count": 18,
   "metadata": {},
   "outputs": [
    {
     "name": "stdout",
     "output_type": "stream",
     "text": [
      "Tokenizing...\n"
     ]
    },
    {
     "name": "stderr",
     "output_type": "stream",
     "text": [
      "100%|██████████| 122345/122345 [00:05<00:00, 20648.62it/s]\n",
      "100%|██████████| 122345/122345 [00:00<00:00, 2089832.59it/s]\n"
     ]
    },
    {
     "data": {
      "text/plain": [
       "0         different people have given different answers ...\n",
       "1         way to drop the ball on customer service so pi...\n",
       "2         i want my amazon payments account closed dm me...\n",
       "3         yeah this is crazy were less than a week away ...\n",
       "4         how about you guys figure out my xbox one x pr...\n",
       "                                ...                        \n",
       "122340    tracking order shipoment late status carrier u...\n",
       "122341    support chat customer resolution feedback sati...\n",
       "122342    quality product damaged received refund return...\n",
       "122343                       prime product offer price sale\n",
       "122344                     email orders details bank access\n",
       "Length: 122345, dtype: object"
      ]
     },
     "execution_count": 18,
     "metadata": {},
     "output_type": "execute_result"
    }
   ],
   "source": [
    "def add_extra(clean_inbound_text, extra_tweets):\n",
    "    '''Adding extra tweets to the current tokenized data'''\n",
    "    \n",
    "    # Convert the extra tweets into a pandas Series\n",
    "    extra_tweets = pd.Series(extra_tweets)\n",
    "\n",
    "    ## The following 2 steps aren't required for now as the data is already in string format \n",
    "    ## Convert the extra tweets into a single string\n",
    "    # print(\"Converting to string...\")\n",
    "    # string_processed_data = current_tokenized_data.progress_apply(\" \".join)\n",
    "\n",
    "    # Concatenate the extra tweets to the current data\n",
    "    clean_inbound_text = pd.concat([clean_inbound_text, extra_tweets], axis = 0, ignore_index = True)\n",
    "\n",
    "    # Tokenize the combined data\n",
    "    tknzr = TweetTokenizer(strip_handles = True, reduce_len = True)\n",
    "    print(\"Tokenizing...\")\n",
    "    tokenized_data = clean_inbound_text.progress_apply(tknzr.tokenize)\n",
    "    string_processed_data = tokenized_data.progress_apply(\" \".join)\n",
    "\n",
    "    return string_processed_data\n",
    "\n",
    "# Add the extra tweets to the current data\n",
    "processed_inbound_extra = add_extra(processed_df[\"clean_inbound_text\"], list(ideal_tag_dict.values()))\n",
    "\n",
    "# Save the updated data to a pickle file\n",
    "processed_inbound_extra.to_pickle(\"../objects/processed_inbound_extra.pkl\")\n",
    "\n",
    "processed_inbound_extra"
   ]
  },
  {
   "cell_type": "code",
   "execution_count": 76,
   "metadata": {},
   "outputs": [
    {
     "data": {
      "text/plain": [
       "122338    no exchange available for i need to exchange m...\n",
       "122339    there should be bonus and gifts for regular cu...\n",
       "122340    tracking order shipoment late status carrier u...\n",
       "122341    support chat customer resolution feedback sati...\n",
       "122342    quality product damaged received refund return...\n",
       "122343                       prime product offer price sale\n",
       "122344                     email orders details bank access\n",
       "dtype: object"
      ]
     },
     "execution_count": 76,
     "metadata": {},
     "output_type": "execute_result"
    }
   ],
   "source": [
    "processed_inbound_extra[-7:]"
   ]
  },
  {
   "cell_type": "code",
   "execution_count": 77,
   "metadata": {},
   "outputs": [
    {
     "data": {
      "text/plain": [
       "(122345,)"
      ]
     },
     "execution_count": 77,
     "metadata": {},
     "output_type": "execute_result"
    }
   ],
   "source": [
    "processed_inbound_extra.shape"
   ]
  },
  {
   "cell_type": "code",
   "execution_count": 78,
   "metadata": {},
   "outputs": [
    {
     "name": "stderr",
     "output_type": "stream",
     "text": [
      "Exception ignored in: <bound method IPythonKernel._clean_thread_parent_frames of <ipykernel.ipkernel.IPythonKernel object at 0x1281c9370>>\n",
      "Traceback (most recent call last):\n",
      "  File \"/Users/saggysimmba/Library/Python/3.12/lib/python/site-packages/ipykernel/ipkernel.py\", line 775, in _clean_thread_parent_frames\n",
      "    def _clean_thread_parent_frames(\n",
      "\n",
      "KeyboardInterrupt: \n"
     ]
    },
    {
     "name": "stdout",
     "output_type": "stream",
     "text": [
      "iteration 0\n"
     ]
    }
   ],
   "source": [
    "# Train a Doc2Vec model on the entire corpus \n",
    "def train_doc2vec(string_data, max_epochs, vec_size, alpha):\n",
    "     \n",
    "    # Tagging each of the documents with a unique ID\n",
    "    tagged_data = [TaggedDocument(words=word_tokenize(_d.lower()), tags=[str(i)]) for i, _d in enumerate(string_data)]\n",
    "    \n",
    "    # Instantiating my model \n",
    "    model = Doc2Vec(vector_size=vec_size, alpha=alpha, min_alpha=0.00025, min_count=1, dm=1) # dm=1 means 'distributed memory' (PV-DM)\n",
    "    \n",
    "    # Building the vocabulary table\n",
    "    model.build_vocab(tagged_data)\n",
    "    \n",
    "    for epoch in range(max_epochs): # Run for max_epochs\n",
    "        print('iteration {0}'.format(epoch))    \n",
    "        model.train(tagged_data, total_examples=model.corpus_count, epochs=model.epochs) # This statement trains the model on the current epoch\n",
    "        # Decreasing the learning rate\n",
    "        model.alpha -= 0.0002\n",
    "        # Fixing the learning rate, no decay\n",
    "        model.min_alpha = model.alpha\n",
    "        \n",
    "    # Saving model\n",
    "    model.save(\"../models/d2v.model\")\n",
    "    print(\"Model Saved\")        \n",
    "    \n",
    "# Training\n",
    "train_doc2vec(processed_inbound_extra, max_epochs=100, vec_size=20, alpha=0.025)"
   ]
  },
  {
   "cell_type": "code",
   "execution_count": 19,
   "metadata": {},
   "outputs": [],
   "source": [
    "# Loading in the Doc2Vec model \n",
    "model = Doc2Vec.load(\"../models/d2v.model\")\n",
    "\n",
    "# Storing all inbound data into a list for clustering \n",
    "inbound_d2v = np.array([model.infer_vector(word_tokenize(_d.lower())) for _d in list(processed_inbound_extra)])\n",
    "\n",
    "# Saving\n",
    "with open(\"../objects/inbound_d2v.pkl\", \"wb\") as f:\n",
    "    pkl.dump(inbound_d2v, f)"
   ]
  },
  {
   "cell_type": "code",
   "execution_count": 10,
   "metadata": {},
   "outputs": [
    {
     "data": {
      "text/plain": [
       "(122345, 20)"
      ]
     },
     "execution_count": 10,
     "metadata": {},
     "output_type": "execute_result"
    }
   ],
   "source": [
    "inbound_d2v.shape"
   ]
  },
  {
   "cell_type": "markdown",
   "metadata": {},
   "source": [
    "Before, we did not have a concept of distance in our vectorizers, they don't really have a specific meaning. This is a much better way because it captures the contextual representations between words! Now the clustering should be a lot better than tfidf or bag of words."
   ]
  },
  {
   "cell_type": "markdown",
   "metadata": {},
   "source": [
    "## Methodology\n",
    "\n",
    "Initially, to get the top 1000 similar Tweets, I tried using the existing data. But I don't think that would yield the most accurate results because I am not capturing the best representative Tweet for an intent. For that reason, I made all these base representative Tweets myself (as seen in the values derived from `ideal` dict above). The goal is to find trying to find an idealized, wholistic representation of an intent. Then from there I use my doc2vec representations to find the top 1000 tweets most similar based on cosine similarity.\n",
    "\n",
    "### Package Exploration"
   ]
  },
  {
   "cell_type": "code",
   "execution_count": 20,
   "metadata": {},
   "outputs": [
    {
     "data": {
      "text/plain": [
       "[array([ 0.10244738,  0.06004954,  0.00603363, -0.04262464, -0.00291941,\n",
       "        -0.03927179,  0.03872953,  0.0150747 ,  0.10866123,  0.02787331,\n",
       "         0.00715166, -0.08840131, -0.01201261, -0.0265836 , -0.05975816,\n",
       "         0.12689796, -0.00516903,  0.04469115, -0.04072769, -0.01096257],\n",
       "       dtype=float32)]"
      ]
     },
     "execution_count": 20,
     "metadata": {},
     "output_type": "execute_result"
    }
   ],
   "source": [
    "## Trying an example \n",
    "## Finding and making idealized versions of each tweet so that I can \n",
    "intents_eg = {\"discount\": [\"prime\", \"product\", \"offer\", \"price\", \"sale\"]}\n",
    "inferred_vectors = []\n",
    "\n",
    "for keywords in intents_eg.values():\n",
    "    inferred_vectors.append(model.infer_vector(intents_eg))\n",
    "    \n",
    "inferred_vectors"
   ]
  },
  {
   "cell_type": "code",
   "execution_count": 11,
   "metadata": {},
   "outputs": [],
   "source": [
    "#TODO: My Doc2Vec model vector is inferring different vector values for a given sample. I think I need to treat the model in a better fashion later on  "
   ]
  },
  {
   "cell_type": "code",
   "execution_count": 21,
   "metadata": {},
   "outputs": [
    {
     "data": {
      "text/plain": [
       "dict_values([['tracking', 'order', 'shipment', 'late', 'status', 'carrier', 'update', 'number', 'info', 'received', 'details'], ['service'], ['quality', 'product', 'damaged', 'received', 'refund', 'return', 'issue', 'order', 'packaging', 'proper', 'working', 'expected', 'different'], ['prime', 'product', 'offer', 'price', 'sale'], ['email', 'orders', 'details', 'bank', 'access']])"
      ]
     },
     "execution_count": 21,
     "metadata": {},
     "output_type": "execute_result"
    }
   ],
   "source": [
    "intents.values()"
   ]
  },
  {
   "cell_type": "code",
   "execution_count": 22,
   "metadata": {},
   "outputs": [
    {
     "name": "stdout",
     "output_type": "stream",
     "text": [
      "{'track': ['tracking', 'order', 'shipment', 'late', 'status', 'carrier', 'update', 'number', 'info', 'received', 'details'], 'support': ['service'], 'quality': ['quality', 'product', 'damaged', 'received', 'refund', 'return', 'issue', 'order', 'packaging', 'proper', 'working', 'expected', 'different'], 'discount': ['prime', 'product', 'offer', 'price', 'sale'], 'account': ['email', 'orders', 'details', 'bank', 'access']}\n"
     ]
    }
   ],
   "source": [
    "# These are the current intents I wish to add to my training data \n",
    "print(intents) \n",
    "\n",
    "# Concatenate all the intent values in a sentence form \n",
    "ideal_values = list(\" \".join(_words) for _words in intents.values())\n"
   ]
  },
  {
   "cell_type": "markdown",
   "metadata": {},
   "source": [
    "I have chosen my intent value tokens based on the frequency count of words as described in the previous notebooks. If performance is not upto the mark, reiterate and improve upon them in the future version(s)"
   ]
  },
  {
   "cell_type": "markdown",
   "metadata": {},
   "source": [
    "### Finding intent tags \n",
    "I want to get the tags of my representative Tweets because that's what doc2vec's `model.similarity` method takes in as paramater to generate top N Tweets similar to it."
   ]
  },
  {
   "cell_type": "code",
   "execution_count": 14,
   "metadata": {},
   "outputs": [],
   "source": [
    "#TODO: Improve this block of code later - The following code block isn't the most efficient one"
   ]
  },
  {
   "cell_type": "code",
   "execution_count": 23,
   "metadata": {},
   "outputs": [
    {
     "data": {
      "text/plain": [
       "dict_items([('track', ['tracking', 'order', 'shipment', 'late', 'status', 'carrier', 'update', 'number', 'info', 'received', 'details']), ('support', ['service']), ('quality', ['quality', 'product', 'damaged', 'received', 'refund', 'return', 'issue', 'order', 'packaging', 'proper', 'working', 'expected', 'different']), ('discount', ['prime', 'product', 'offer', 'price', 'sale']), ('account', ['email', 'orders', 'details', 'bank', 'access'])])"
      ]
     },
     "execution_count": 23,
     "metadata": {},
     "output_type": "execute_result"
    }
   ],
   "source": [
    "intents.items()"
   ]
  },
  {
   "cell_type": "code",
   "execution_count": 24,
   "metadata": {},
   "outputs": [
    {
     "name": "stdout",
     "output_type": "stream",
     "text": [
      "{'track': ['tracking', 'order', 'shipoment', 'late', 'status', 'carrier', 'update', 'number', 'info', 'received', 'details'], 'support': ['support', 'chat', 'customer', 'resolution', 'feedback', 'satisfaction'], 'quality': ['quality', 'product', 'damaged', 'received', 'refund', 'return', 'issue', 'order', 'packaging', 'proper', 'working', 'expected', 'different'], 'discount': ['prime', 'product', 'offer', 'price', 'sale'], 'account': ['email', 'orders', 'details', 'bank', 'access']}\n"
     ]
    }
   ],
   "source": [
    "tokenizer = TweetTokenizer(strip_handles = True, reduce_len = True)\n",
    "\n",
    "intents_repr = {k: tokenizer.tokenize(v) for k, v in ideal_tag_dict.items()}\n",
    "print(intents_repr)\n",
    "\n",
    "# Save them into objects \n",
    "with open(\"../objects/intents_repr.yml\", \"w\") as f:\n",
    "    yaml.dump(intents_repr, f, default_flow_style=False)\n",
    "\n",
    "# Storing tags in order of the dictionary above\n",
    "# tags = []\n",
    "\n",
    "# Tokenize and process inbound tweets \n",
    "tokenized_processed_inbound_extra = processed_inbound_extra.apply(tokenizer.tokenize)"
   ]
  },
  {
   "cell_type": "code",
   "execution_count": 18,
   "metadata": {},
   "outputs": [
    {
     "data": {
      "text/html": [
       "<div>\n",
       "<style scoped>\n",
       "    .dataframe tbody tr th:only-of-type {\n",
       "        vertical-align: middle;\n",
       "    }\n",
       "\n",
       "    .dataframe tbody tr th {\n",
       "        vertical-align: top;\n",
       "    }\n",
       "\n",
       "    .dataframe thead th {\n",
       "        text-align: right;\n",
       "    }\n",
       "</style>\n",
       "<table border=\"1\" class=\"dataframe\">\n",
       "  <thead>\n",
       "    <tr style=\"text-align: right;\">\n",
       "      <th></th>\n",
       "      <th>inbound_text</th>\n",
       "      <th>author_id</th>\n",
       "      <th>created_at</th>\n",
       "      <th>outbound_text</th>\n",
       "      <th>response_tweet_id</th>\n",
       "      <th>inbound_lang</th>\n",
       "      <th>inbound_hashtags</th>\n",
       "      <th>outbound_hashtags</th>\n",
       "      <th>clean_inbound_text</th>\n",
       "      <th>clean_outbound_text</th>\n",
       "      <th>outbound_tokens_pos</th>\n",
       "      <th>inbound_tokens_pos</th>\n",
       "    </tr>\n",
       "  </thead>\n",
       "  <tbody>\n",
       "    <tr>\n",
       "      <th>4</th>\n",
       "      <td>@AmazonHelp 3 different people have given 3 di...</td>\n",
       "      <td>AmazonHelp</td>\n",
       "      <td>2017-10-31 23:28:00+00:00</td>\n",
       "      <td>@115820 We'd like to take a further look into ...</td>\n",
       "      <td>619</td>\n",
       "      <td>en</td>\n",
       "      <td>[]</td>\n",
       "      <td>[]</td>\n",
       "      <td>different people have given different answers ...</td>\n",
       "      <td>wed like to take a further look into this with...</td>\n",
       "      <td>[-PRON-: NOUN, d: VERB, like: VERB, to: NOUN, ...</td>\n",
       "      <td>[different: NOUN, people: NOUN, have: NOUN, gi...</td>\n",
       "    </tr>\n",
       "    <tr>\n",
       "      <th>5</th>\n",
       "      <td>Way to drop the ball on customer service @1158...</td>\n",
       "      <td>AmazonHelp</td>\n",
       "      <td>2017-10-31 22:29:00+00:00</td>\n",
       "      <td>@115820 I'm sorry we've let you down! Without ...</td>\n",
       "      <td>616</td>\n",
       "      <td>en</td>\n",
       "      <td>[]</td>\n",
       "      <td>[]</td>\n",
       "      <td>way to drop the ball on customer service so pi...</td>\n",
       "      <td>i am sorry we have let you down without provid...</td>\n",
       "      <td>[i: NOUN, be: NOUN, sorry: NOUN, -PRON-: NOUN,...</td>\n",
       "      <td>[way: NOUN, to: NOUN, drop: VERB, the: NOUN, b...</td>\n",
       "    </tr>\n",
       "    <tr>\n",
       "      <th>6</th>\n",
       "      <td>@115823 I want my amazon payments account CLOS...</td>\n",
       "      <td>AmazonHelp</td>\n",
       "      <td>2017-10-31 22:28:34+00:00</td>\n",
       "      <td>@115822 I am unable to affect your account via...</td>\n",
       "      <td>NaN</td>\n",
       "      <td>en</td>\n",
       "      <td>[]</td>\n",
       "      <td>[]</td>\n",
       "      <td>i want my amazon payments account closed dm me...</td>\n",
       "      <td>i am unable to affect your account via twitter...</td>\n",
       "      <td>[i: NOUN, be: NOUN, unable: NOUN, to: NOUN, af...</td>\n",
       "      <td>[i: NOUN, want: VERB, -PRON-: NOUN, amazon: NO...</td>\n",
       "    </tr>\n",
       "    <tr>\n",
       "      <th>9</th>\n",
       "      <td>@AmazonHelp @115826 Yeah this is crazy we’re l...</td>\n",
       "      <td>AmazonHelp</td>\n",
       "      <td>2017-11-01 12:53:34+00:00</td>\n",
       "      <td>@115827 Thanks for your patience. ^KM</td>\n",
       "      <td>NaN</td>\n",
       "      <td>en</td>\n",
       "      <td>[]</td>\n",
       "      <td>[]</td>\n",
       "      <td>yeah this is crazy were less than a week away ...</td>\n",
       "      <td>thanks for your patience km</td>\n",
       "      <td>[thank: NOUN, for: NOUN, -PRON-: NOUN, patienc...</td>\n",
       "      <td>[yeah: NOUN, this: NOUN, be: NOUN, crazy: NOUN...</td>\n",
       "    </tr>\n",
       "    <tr>\n",
       "      <th>10</th>\n",
       "      <td>@115828 How about you guys figure out my Xbox ...</td>\n",
       "      <td>AmazonHelp</td>\n",
       "      <td>2017-10-31 22:28:00+00:00</td>\n",
       "      <td>@115826 I'm sorry for the wait. You'll receive...</td>\n",
       "      <td>627</td>\n",
       "      <td>en</td>\n",
       "      <td>[]</td>\n",
       "      <td>[]</td>\n",
       "      <td>how about you guys figure out my xbox one x pr...</td>\n",
       "      <td>i am sorry for the wait you will receive an em...</td>\n",
       "      <td>[i: NOUN, be: NOUN, sorry: NOUN, for: NOUN, th...</td>\n",
       "      <td>[how: NOUN, about: NOUN, -PRON-: NOUN, guy: NO...</td>\n",
       "    </tr>\n",
       "    <tr>\n",
       "      <th>...</th>\n",
       "      <td>...</td>\n",
       "      <td>...</td>\n",
       "      <td>...</td>\n",
       "      <td>...</td>\n",
       "      <td>...</td>\n",
       "      <td>...</td>\n",
       "      <td>...</td>\n",
       "      <td>...</td>\n",
       "      <td>...</td>\n",
       "      <td>...</td>\n",
       "      <td>...</td>\n",
       "      <td>...</td>\n",
       "    </tr>\n",
       "    <tr>\n",
       "      <th>168803</th>\n",
       "      <td>@AmazonHelp I sent you guys a DM regarding the...</td>\n",
       "      <td>AmazonHelp</td>\n",
       "      <td>2017-11-22 00:17:00+00:00</td>\n",
       "      <td>@328597 We're unable to access customer accoun...</td>\n",
       "      <td>NaN</td>\n",
       "      <td>en</td>\n",
       "      <td>[]</td>\n",
       "      <td>[]</td>\n",
       "      <td>i sent you guys a dm regarding the status of m...</td>\n",
       "      <td>were unable to access customer accounts via so...</td>\n",
       "      <td>[be: NOUN, unable: NOUN, to: NOUN, access: VER...</td>\n",
       "      <td>[i: NOUN, send: VERB, -PRON-: NOUN, guy: NOUN,...</td>\n",
       "    </tr>\n",
       "    <tr>\n",
       "      <th>168805</th>\n",
       "      <td>This is happening in my area w/@115821 “Prime”...</td>\n",
       "      <td>AmazonHelp</td>\n",
       "      <td>2017-11-22 02:16:55+00:00</td>\n",
       "      <td>@777901 I'm sorry for the delay, Brenda! We st...</td>\n",
       "      <td>2987557</td>\n",
       "      <td>en</td>\n",
       "      <td>[]</td>\n",
       "      <td>[]</td>\n",
       "      <td>this is happening in my area w prime deliverie...</td>\n",
       "      <td>i am sorry for the delay brenda we strive to s...</td>\n",
       "      <td>[i: NOUN, be: NOUN, sorry: NOUN, for: NOUN, th...</td>\n",
       "      <td>[this: NOUN, be: NOUN, happen: VERB, in: NOUN,...</td>\n",
       "    </tr>\n",
       "    <tr>\n",
       "      <th>168807</th>\n",
       "      <td>@132994 @132995 @115850 got my #OnePlus5T at 8...</td>\n",
       "      <td>AmazonHelp</td>\n",
       "      <td>2017-11-22 03:49:29+00:00</td>\n",
       "      <td>@823783 Woohoo! That's awesome! Hope you love ...</td>\n",
       "      <td>2987674</td>\n",
       "      <td>en</td>\n",
       "      <td>[#AmazonPrime, #OnePlus5T]</td>\n",
       "      <td>[]</td>\n",
       "      <td>got my at am thanks for fulfilling the order fast</td>\n",
       "      <td>woohoo that is awesome hope you love the phone js</td>\n",
       "      <td>[woohoo: NOUN, that: NOUN, be: NOUN, awesome: ...</td>\n",
       "      <td>[get: VERB, -PRON-: NOUN, at: NOUN, be: NOUN, ...</td>\n",
       "    </tr>\n",
       "    <tr>\n",
       "      <th>168812</th>\n",
       "      <td>@115850 @132994 No exchange available for #One...</td>\n",
       "      <td>AmazonHelp</td>\n",
       "      <td>2017-11-22 05:22:31+00:00</td>\n",
       "      <td>@823802 The Exchange Offer is currently availa...</td>\n",
       "      <td>NaN</td>\n",
       "      <td>en</td>\n",
       "      <td>[#OnePlus5T]</td>\n",
       "      <td>[]</td>\n",
       "      <td>no exchange available for i need to exchange m...</td>\n",
       "      <td>the exchange offer is currently available only...</td>\n",
       "      <td>[the: NOUN, exchange: NOUN, offer: NOUN, be: N...</td>\n",
       "      <td>[no: NOUN, exchange: NOUN, available: NOUN, fo...</td>\n",
       "    </tr>\n",
       "    <tr>\n",
       "      <th>168817</th>\n",
       "      <td>@115850  there should be bonus and gifts for r...</td>\n",
       "      <td>AmazonHelp</td>\n",
       "      <td>2017-11-22 06:20:00+00:00</td>\n",
       "      <td>@823829 We do not have any such offer at this ...</td>\n",
       "      <td>2987817</td>\n",
       "      <td>en</td>\n",
       "      <td>[]</td>\n",
       "      <td>[]</td>\n",
       "      <td>there should be bonus and gifts for regular cu...</td>\n",
       "      <td>we do not have any such offer at this point in...</td>\n",
       "      <td>[-PRON-: NOUN, do: NOUN, not: NOUN, have: NOUN...</td>\n",
       "      <td>[there: NOUN, should: VERB, be: NOUN, bonus: N...</td>\n",
       "    </tr>\n",
       "  </tbody>\n",
       "</table>\n",
       "<p>122340 rows × 12 columns</p>\n",
       "</div>"
      ],
      "text/plain": [
       "                                             inbound_text   author_id  \\\n",
       "4       @AmazonHelp 3 different people have given 3 di...  AmazonHelp   \n",
       "5       Way to drop the ball on customer service @1158...  AmazonHelp   \n",
       "6       @115823 I want my amazon payments account CLOS...  AmazonHelp   \n",
       "9       @AmazonHelp @115826 Yeah this is crazy we’re l...  AmazonHelp   \n",
       "10      @115828 How about you guys figure out my Xbox ...  AmazonHelp   \n",
       "...                                                   ...         ...   \n",
       "168803  @AmazonHelp I sent you guys a DM regarding the...  AmazonHelp   \n",
       "168805  This is happening in my area w/@115821 “Prime”...  AmazonHelp   \n",
       "168807  @132994 @132995 @115850 got my #OnePlus5T at 8...  AmazonHelp   \n",
       "168812  @115850 @132994 No exchange available for #One...  AmazonHelp   \n",
       "168817  @115850  there should be bonus and gifts for r...  AmazonHelp   \n",
       "\n",
       "                       created_at  \\\n",
       "4       2017-10-31 23:28:00+00:00   \n",
       "5       2017-10-31 22:29:00+00:00   \n",
       "6       2017-10-31 22:28:34+00:00   \n",
       "9       2017-11-01 12:53:34+00:00   \n",
       "10      2017-10-31 22:28:00+00:00   \n",
       "...                           ...   \n",
       "168803  2017-11-22 00:17:00+00:00   \n",
       "168805  2017-11-22 02:16:55+00:00   \n",
       "168807  2017-11-22 03:49:29+00:00   \n",
       "168812  2017-11-22 05:22:31+00:00   \n",
       "168817  2017-11-22 06:20:00+00:00   \n",
       "\n",
       "                                            outbound_text response_tweet_id  \\\n",
       "4       @115820 We'd like to take a further look into ...               619   \n",
       "5       @115820 I'm sorry we've let you down! Without ...               616   \n",
       "6       @115822 I am unable to affect your account via...               NaN   \n",
       "9                   @115827 Thanks for your patience. ^KM               NaN   \n",
       "10      @115826 I'm sorry for the wait. You'll receive...               627   \n",
       "...                                                   ...               ...   \n",
       "168803  @328597 We're unable to access customer accoun...               NaN   \n",
       "168805  @777901 I'm sorry for the delay, Brenda! We st...           2987557   \n",
       "168807  @823783 Woohoo! That's awesome! Hope you love ...           2987674   \n",
       "168812  @823802 The Exchange Offer is currently availa...               NaN   \n",
       "168817  @823829 We do not have any such offer at this ...           2987817   \n",
       "\n",
       "       inbound_lang            inbound_hashtags outbound_hashtags  \\\n",
       "4                en                          []                []   \n",
       "5                en                          []                []   \n",
       "6                en                          []                []   \n",
       "9                en                          []                []   \n",
       "10               en                          []                []   \n",
       "...             ...                         ...               ...   \n",
       "168803           en                          []                []   \n",
       "168805           en                          []                []   \n",
       "168807           en  [#AmazonPrime, #OnePlus5T]                []   \n",
       "168812           en                [#OnePlus5T]                []   \n",
       "168817           en                          []                []   \n",
       "\n",
       "                                       clean_inbound_text  \\\n",
       "4       different people have given different answers ...   \n",
       "5       way to drop the ball on customer service so pi...   \n",
       "6       i want my amazon payments account closed dm me...   \n",
       "9       yeah this is crazy were less than a week away ...   \n",
       "10      how about you guys figure out my xbox one x pr...   \n",
       "...                                                   ...   \n",
       "168803  i sent you guys a dm regarding the status of m...   \n",
       "168805  this is happening in my area w prime deliverie...   \n",
       "168807  got my at am thanks for fulfilling the order fast   \n",
       "168812  no exchange available for i need to exchange m...   \n",
       "168817  there should be bonus and gifts for regular cu...   \n",
       "\n",
       "                                      clean_outbound_text  \\\n",
       "4       wed like to take a further look into this with...   \n",
       "5       i am sorry we have let you down without provid...   \n",
       "6       i am unable to affect your account via twitter...   \n",
       "9                             thanks for your patience km   \n",
       "10      i am sorry for the wait you will receive an em...   \n",
       "...                                                   ...   \n",
       "168803  were unable to access customer accounts via so...   \n",
       "168805  i am sorry for the delay brenda we strive to s...   \n",
       "168807  woohoo that is awesome hope you love the phone js   \n",
       "168812  the exchange offer is currently available only...   \n",
       "168817  we do not have any such offer at this point in...   \n",
       "\n",
       "                                      outbound_tokens_pos  \\\n",
       "4       [-PRON-: NOUN, d: VERB, like: VERB, to: NOUN, ...   \n",
       "5       [i: NOUN, be: NOUN, sorry: NOUN, -PRON-: NOUN,...   \n",
       "6       [i: NOUN, be: NOUN, unable: NOUN, to: NOUN, af...   \n",
       "9       [thank: NOUN, for: NOUN, -PRON-: NOUN, patienc...   \n",
       "10      [i: NOUN, be: NOUN, sorry: NOUN, for: NOUN, th...   \n",
       "...                                                   ...   \n",
       "168803  [be: NOUN, unable: NOUN, to: NOUN, access: VER...   \n",
       "168805  [i: NOUN, be: NOUN, sorry: NOUN, for: NOUN, th...   \n",
       "168807  [woohoo: NOUN, that: NOUN, be: NOUN, awesome: ...   \n",
       "168812  [the: NOUN, exchange: NOUN, offer: NOUN, be: N...   \n",
       "168817  [-PRON-: NOUN, do: NOUN, not: NOUN, have: NOUN...   \n",
       "\n",
       "                                       inbound_tokens_pos  \n",
       "4       [different: NOUN, people: NOUN, have: NOUN, gi...  \n",
       "5       [way: NOUN, to: NOUN, drop: VERB, the: NOUN, b...  \n",
       "6       [i: NOUN, want: VERB, -PRON-: NOUN, amazon: NO...  \n",
       "9       [yeah: NOUN, this: NOUN, be: NOUN, crazy: NOUN...  \n",
       "10      [how: NOUN, about: NOUN, -PRON-: NOUN, guy: NO...  \n",
       "...                                                   ...  \n",
       "168803  [i: NOUN, send: VERB, -PRON-: NOUN, guy: NOUN,...  \n",
       "168805  [this: NOUN, be: NOUN, happen: VERB, in: NOUN,...  \n",
       "168807  [get: VERB, -PRON-: NOUN, at: NOUN, be: NOUN, ...  \n",
       "168812  [no: NOUN, exchange: NOUN, available: NOUN, fo...  \n",
       "168817  [there: NOUN, should: VERB, be: NOUN, bonus: N...  \n",
       "\n",
       "[122340 rows x 12 columns]"
      ]
     },
     "execution_count": 18,
     "metadata": {},
     "output_type": "execute_result"
    }
   ],
   "source": [
    "processed_df"
   ]
  },
  {
   "cell_type": "code",
   "execution_count": 18,
   "metadata": {},
   "outputs": [
    {
     "data": {
      "text/plain": [
       "0         different people have given different answers ...\n",
       "1         way to drop the ball on customer service so pi...\n",
       "2         i want my amazon payments account closed dm me...\n",
       "3         yeah this is crazy were less than a week away ...\n",
       "4         how about you guys figure out my xbox one x pr...\n",
       "                                ...                        \n",
       "122335    i sent you guys a dm regarding the status of m...\n",
       "122336    this is happening in my area w prime deliverie...\n",
       "122337    got my at am thanks for fulfilling the order fast\n",
       "122338    no exchange available for i need to exchange m...\n",
       "122339    there should be bonus and gifts for regular cu...\n",
       "Name: clean_inbound_text, Length: 122340, dtype: object"
      ]
     },
     "execution_count": 18,
     "metadata": {},
     "output_type": "execute_result"
    }
   ],
   "source": [
    "processed_inbound_extra "
   ]
  },
  {
   "cell_type": "code",
   "execution_count": 68,
   "metadata": {},
   "outputs": [
    {
     "data": {
      "text/plain": [
       "0         [different, people, have, given, different, an...\n",
       "1         [way, to, drop, the, ball, on, customer, servi...\n",
       "2         [i, want, my, amazon, payments, account, close...\n",
       "3         [yeah, this, is, crazy, were, less, than, a, w...\n",
       "4         [how, about, you, guys, figure, out, my, xbox,...\n",
       "                                ...                        \n",
       "122335    [i, sent, you, guys, a, dm, regarding, the, st...\n",
       "122336    [this, is, happening, in, my, area, w, prime, ...\n",
       "122337    [got, my, at, am, thanks, for, fulfilling, the...\n",
       "122338    [no, exchange, available, for, i, need, to, ex...\n",
       "122339    [there, should, be, bonus, and, gifts, for, re...\n",
       "Name: clean_inbound_text, Length: 122340, dtype: object"
      ]
     },
     "execution_count": 68,
     "metadata": {},
     "output_type": "execute_result"
    }
   ],
   "source": [
    "tokenized_processed_inbound_extra"
   ]
  },
  {
   "cell_type": "code",
   "execution_count": 25,
   "metadata": {},
   "outputs": [
    {
     "name": "stdout",
     "output_type": "stream",
     "text": [
      "TAGGED INDEXES TO LOOK FOR\n",
      "['122340']\n",
      "\n",
      "track \n",
      "Index: 122340\n",
      "Preview: 122340    tracking order shipoment late status carrier u...\n",
      "dtype: object\n",
      "['122340', '122341']\n",
      "\n",
      "support \n",
      "Index: 122341\n",
      "Preview: 122341    support chat customer resolution feedback sati...\n",
      "dtype: object\n",
      "['122340', '122341', '122342']\n",
      "\n",
      "quality \n",
      "Index: 122342\n",
      "Preview: 122342    quality product damaged received refund return...\n",
      "dtype: object\n",
      "['122340', '122341', '122342', '122343']\n",
      "\n",
      "discount \n",
      "Index: 122343\n",
      "Preview: 122343    prime product offer price sale\n",
      "dtype: object\n",
      "['122340', '122341', '122342', '122343', '122344']\n",
      "\n",
      "account \n",
      "Index: 122344\n",
      "Preview: 122344    email orders details bank access\n",
      "dtype: object\n"
     ]
    }
   ],
   "source": [
    "# Find the index locations of specific Tweets\n",
    "# get_indices = []\n",
    "# Storing tags in order of the dictionary above\n",
    "tags = []\n",
    "def report_index_loc(tweet, intent_name):\n",
    "    ''' Takes in the tweet to find the index for and returns a report of that tweet index along with what the \n",
    "    representative Tweet looks like'''\n",
    "    try:\n",
    "        tweets = [] # List which stores tuples of indexes of representative tweets AND a boolean value to indicate if the tweet has the intent we are looking for\n",
    "        for i, j in enumerate(tokenized_processed_inbound_extra):\n",
    "            if j == tweet:\n",
    "                tweets.append((i, True))\n",
    "            else:\n",
    "                tweets.append((i, False))\n",
    "\n",
    "        indices = [i[0] for i in tweets if i[1] == True]\n",
    "        # get_indices.append(indices.append(i[0]) if i[1] == True else False for i in tweets)\n",
    "\n",
    "        preview = processed_inbound_extra.iloc[indices]\n",
    "\n",
    "        # Appending to indexes for dictionary \n",
    "        tags.append(str(indices[0]))\n",
    "        print(tags)\n",
    "        \n",
    "\n",
    "    except IndexError as e:\n",
    "        print(\"Index not in list, move on\")\n",
    "        return\n",
    "\n",
    "    return intent_name, str(indices[0]), preview\n",
    "\n",
    "\n",
    "# Reporting and storing indexes with the function\n",
    "print(\"TAGGED INDEXES TO LOOK FOR\")\n",
    "for j, i in intents_repr.items():\n",
    "    try:\n",
    "        print('\\n{} \\nIndex: {}\\nPreview: {}'.format(*report_index_loc(i, j)))\n",
    "    except Exception as e:\n",
    "        print(\"Index ended\")"
   ]
  },
  {
   "cell_type": "code",
   "execution_count": 13,
   "metadata": {},
   "outputs": [
    {
     "data": {
      "text/plain": [
       "4         [different, people, have, given, different, an...\n",
       "5         [way, to, drop, the, ball, on, customer, servi...\n",
       "6         [i, want, my, amazon, payments, account, close...\n",
       "9         [yeah, this, is, crazy, were, less, than, a, w...\n",
       "10        [how, about, you, guys, figure, out, my, xbox,...\n",
       "                                ...                        \n",
       "168803    [i, sent, you, guys, a, dm, regarding, the, st...\n",
       "168805    [this, is, happening, in, my, area, w, prime, ...\n",
       "168807    [got, my, at, am, thanks, for, fulfilling, the...\n",
       "168812    [no, exchange, available, for, i, need, to, ex...\n",
       "168817    [there, should, be, bonus, and, gifts, for, re...\n",
       "Name: clean_inbound_text, Length: 122340, dtype: object"
      ]
     },
     "execution_count": 13,
     "metadata": {},
     "output_type": "execute_result"
    }
   ],
   "source": [
    "tokenized_processed_inbound_extra"
   ]
  },
  {
   "cell_type": "code",
   "execution_count": 21,
   "metadata": {},
   "outputs": [
    {
     "data": {
      "text/plain": [
       "{'track': ['tracking',\n",
       "  'order',\n",
       "  'shipoment',\n",
       "  'late',\n",
       "  'status',\n",
       "  'carrier',\n",
       "  'update',\n",
       "  'number',\n",
       "  'info',\n",
       "  'received',\n",
       "  'details'],\n",
       " 'support': ['support',\n",
       "  'chat',\n",
       "  'customer',\n",
       "  'resolution',\n",
       "  'feedback',\n",
       "  'satisfaction'],\n",
       " 'quality': ['quality',\n",
       "  'product',\n",
       "  'damaged',\n",
       "  'received',\n",
       "  'refund',\n",
       "  'return',\n",
       "  'issue',\n",
       "  'order',\n",
       "  'packaging',\n",
       "  'proper',\n",
       "  'working',\n",
       "  'expected',\n",
       "  'different'],\n",
       " 'discount': ['prime', 'product', 'offer', 'price', 'sale'],\n",
       " 'account': ['email', 'orders', 'details', 'bank', 'access']}"
      ]
     },
     "execution_count": 21,
     "metadata": {},
     "output_type": "execute_result"
    }
   ],
   "source": [
    "intents_repr"
   ]
  },
  {
   "cell_type": "code",
   "execution_count": 73,
   "metadata": {},
   "outputs": [
    {
     "data": {
      "text/plain": [
       "['tampered',\n",
       " 'supplied',\n",
       " 'defective',\n",
       " 'fake',\n",
       " 'faileddetectonline',\n",
       " 'help',\n",
       " 'identified',\n",
       " 'fake',\n",
       " 'cartridges']"
      ]
     },
     "execution_count": 73,
     "metadata": {},
     "output_type": "execute_result"
    }
   ],
   "source": [
    "tokenized_processed_inbound_extra[39500]"
   ]
  },
  {
   "cell_type": "code",
   "execution_count": 67,
   "metadata": {},
   "outputs": [
    {
     "data": {
      "text/plain": [
       "array([ 0.2575036 ,  0.22525875, -0.00204794,  0.25034946,  0.29573932,\n",
       "        0.11042561,  0.34600645, -0.09492776,  0.8735179 ,  0.04850508,\n",
       "       -0.08035677, -0.60845906, -0.51485014, -0.52978706,  0.02381231,\n",
       "        0.2749139 , -0.03704822,  0.13280009, -0.03495918, -0.09525312],\n",
       "      dtype=float32)"
      ]
     },
     "execution_count": 67,
     "metadata": {},
     "output_type": "execute_result"
    }
   ],
   "source": [
    "inferred_vector = model.infer_vector(tokenized_processed_inbound_extra[122342])\n",
    "inferred_vector"
   ]
  },
  {
   "cell_type": "code",
   "execution_count": 72,
   "metadata": {},
   "outputs": [
    {
     "data": {
      "text/plain": [
       "('39500', 0.7334545254707336)"
      ]
     },
     "execution_count": 72,
     "metadata": {},
     "output_type": "execute_result"
    }
   ],
   "source": [
    "# Great! Now I can get the training data for an example intent \n",
    "similar_doc = model.dv.most_similar([inferred_vector], topn = 2000)\n",
    "# Preview\n",
    "similar_doc[99]"
   ]
  },
  {
   "cell_type": "code",
   "execution_count": 42,
   "metadata": {},
   "outputs": [],
   "source": [
    "# TODO: Data Cleaning pe dhyan dena pdega. Abhi sahi nai hai "
   ]
  },
  {
   "cell_type": "code",
   "execution_count": 44,
   "metadata": {},
   "outputs": [],
   "source": [
    "# TODO: Processed inbound extra, there are spelling issues though which needs to be resolved"
   ]
  },
  {
   "cell_type": "code",
   "execution_count": 30,
   "metadata": {},
   "outputs": [
    {
     "data": {
      "text/plain": [
       "dict_keys(['track', 'support', 'quality', 'discount', 'account'])"
      ]
     },
     "execution_count": 30,
     "metadata": {},
     "output_type": "execute_result"
    }
   ],
   "source": [
    "intents_repr.keys()"
   ]
  },
  {
   "cell_type": "code",
   "execution_count": 31,
   "metadata": {},
   "outputs": [
    {
     "data": {
      "text/plain": [
       "['122340', '122341', '122342', '122343', '122344']"
      ]
     },
     "execution_count": 31,
     "metadata": {},
     "output_type": "execute_result"
    }
   ],
   "source": [
    "tags"
   ]
  },
  {
   "cell_type": "code",
   "execution_count": 29,
   "metadata": {},
   "outputs": [
    {
     "data": {
      "text/plain": [
       "{'track': '122340',\n",
       " 'support': '122341',\n",
       " 'quality': '122342',\n",
       " 'discount': '122343',\n",
       " 'account': '122344'}"
      ]
     },
     "execution_count": 29,
     "metadata": {},
     "output_type": "execute_result"
    }
   ],
   "source": [
    "# Create the intent-tag dictionary by # Dictionary mapping the intent to the row index \n",
    "intents_tags = dict(zip(intents_repr.keys(), tags))\n",
    "intents_tags"
   ]
  },
  {
   "cell_type": "code",
   "execution_count": 30,
   "metadata": {},
   "outputs": [],
   "source": [
    "# Just separate out those intents which will purely be generated \n",
    "intents_tags_subset = {'support': '122341', 'account': '122344'}"
   ]
  },
  {
   "cell_type": "markdown",
   "metadata": {},
   "source": [
    "## Data Synthesis \n",
    "### 1. Adding intents to training data based on similarity \n",
    "As can be seen above, the right tuple element is the cosine similarity. We are just taking the top 1000 similar to a base, idealized version of intents (which we based off keywords mostly). **Intents captured: (track + discount + account)**\n",
    "\n",
    "### 2. Adding the intents manually \n",
    "These ones are generated with a different method that is more manual. I will generate as much examples of this as I can, then I brute force it by duplicating it until it reaches 1000 training examples for preserving class balance. **Intents captured: (greeting + goodbye)**\n",
    "\n",
    "### 3. Adding in the hybrid intents \n",
    "I use my Keyword Exploration shown in the previous notebook and find that there is a lot of overlap between **track** and **quality**. So for both I am going to generate a proportion of it using doc2vec, and the rest I will manually insert examples - the idea is to balance overfitting or noise and putting in the correct signal. **Intents captured: (greeting + goodbye)**"
   ]
  },
  {
   "cell_type": "code",
   "execution_count": 48,
   "metadata": {},
   "outputs": [],
   "source": [
    "#TODO: **One special case might be out of scope, I might get an alternative way to deal with that since I will not be able to generate all examples of that intent.**\n",
    "#TODO: **See if I might run into this issue**"
   ]
  },
  {
   "cell_type": "code",
   "execution_count": 49,
   "metadata": {},
   "outputs": [],
   "source": [
    "#TODO: Here's is the catch. Have intent buckets inplace already in place. You would need to supply this to the below function to get your top N tweets corresponding to the current tweet"
   ]
  },
  {
   "cell_type": "code",
   "execution_count": 50,
   "metadata": {},
   "outputs": [],
   "source": [
    "#TODO: Check for stopwords because I don't want to include them in the manually represented intents. \n",
    "#TODO: This is something I would manually tune to the dataframe (for step 2 of the process)"
   ]
  },
  {
   "cell_type": "code",
   "execution_count": 54,
   "metadata": {},
   "outputs": [],
   "source": [
    "import json"
   ]
  },
  {
   "cell_type": "code",
   "execution_count": 31,
   "metadata": {},
   "outputs": [
    {
     "name": "stdout",
     "output_type": "stream",
     "text": [
      "Intent:  support\n",
      "\n",
      "\n",
      "Intent:  account\n",
      "\n",
      "\n"
     ]
    }
   ],
   "source": [
    "## Getting top n tweets similar to the first tweet \n",
    "# This will return a list of tuples (i, j) where i is the index and j is the \n",
    "# cosine similarity to the tagged document index \n",
    "\n",
    "# Storing all intents in a dataframe \n",
    "train = pd.DataFrame()\n",
    "\n",
    "# Storing tags in order of the dictionary above \n",
    "def generate_intent(target, idx_tag): \n",
    "    '''Function that maps an index tag to an intent and returns nsim number of similar tweets'''\n",
    "    sim_docs = model.dv.most_similar(idx_tag, topn = target)\n",
    "    \n",
    "    # Getting just the indexes \n",
    "    indexes = [int(i[0]) for i in sim_docs]\n",
    "    \n",
    "    # Actually seeing the top 1000 tweets similar to 0th tweet which seems to be about updates \n",
    "    # print(processed_inbound_extra[indexes])\n",
    "    # Adding just the values, AND not the index \n",
    "    # Tokenize the tweet \n",
    "    return [word_tokenize(tweet) for tweet in list(processed_inbound_extra[indexes].values)]\n",
    "\n",
    "# Update training data \n",
    "for intent_name, tag in intents_tags_subset.items():\n",
    "    print('Intent: ', intent_name)\n",
    "    train[intent_name] = generate_intent(1000, tag)\n",
    "    print('\\n')\n",
    "\n",
    "\n",
    "# 2. Manually added intents \n",
    "# These are the remainder intents \n",
    "import json\n",
    "with open(\"../data/interim/manual_intents_data.json\", \"r\") as f:\n",
    "    manually_added_intents = json.load(f)\n",
    "\n",
    "# Insert manually added intents to data \n",
    "def insert_manually(target, prototype): \n",
    "    ''' Taking a prototype tokenized document to repeat until I get desired length target'''\n",
    "    factor = math.ceil(target / len(prototype))\n",
    "    content = prototype * factor\n",
    "    return [content[i] for i in range(target)]\n",
    "\n",
    "# Update training data\n",
    "for intent_name in manually_added_intents[\"intents\"].keys(): \n",
    "    train[intent_name] = insert_manually(1000, [*manually_added_intents[\"intents\"][intent_name]])\n",
    "\n",
    "# 3. Adding in the hybrid intents \n",
    "with open(\"../data/interim/hybrid_intents_data.json\", \"r\") as f:\n",
    "    hybrid_added_intents = json.load(f)\n",
    "\n",
    "\n",
    "# 3. Adding in the hybrid intents\n",
    "def insert_hybrid(manual_target, generated_target, prototype, itag): \n",
    "    return insert_manually(manual_target, prototype) + generate_intent(generated_target, itag)\n",
    "\n",
    "# Update training data\n",
    "for intent_name in hybrid_added_intents[\"intents\"].keys(): \n",
    "    if intent_name == \"quality\":\n",
    "        train[intent_name] = insert_hybrid(200, 800, hybrid_added_intents[\"intents\"][intent_name], intents_tags[intent_name])\n",
    "    else:\n",
    "        train[intent_name] = insert_hybrid(700, 300, hybrid_added_intents[\"intents\"][intent_name], intents_tags[intent_name])"
   ]
  },
  {
   "cell_type": "code",
   "execution_count": null,
   "metadata": {},
   "outputs": [],
   "source": [
    "# TODO: I am not inserting the hybrid intents as of now, since I believe it might just add to unnecessary noise in the dataset. Also, its just complex in the first go. So definitely in 2nd iteration "
   ]
  },
  {
   "cell_type": "code",
   "execution_count": 32,
   "metadata": {},
   "outputs": [
    {
     "name": "stdout",
     "output_type": "stream",
     "text": [
      "(1000, 9)\n"
     ]
    },
    {
     "data": {
      "text/html": [
       "<style type=\"text/css\">\n",
       "#T_25b9b_row0_col0, #T_25b9b_row0_col1, #T_25b9b_row0_col2, #T_25b9b_row0_col3, #T_25b9b_row0_col4, #T_25b9b_row0_col5, #T_25b9b_row0_col6, #T_25b9b_row0_col7, #T_25b9b_row0_col8, #T_25b9b_row1_col0, #T_25b9b_row1_col1, #T_25b9b_row1_col2, #T_25b9b_row1_col3, #T_25b9b_row1_col4, #T_25b9b_row1_col5, #T_25b9b_row1_col6, #T_25b9b_row1_col7, #T_25b9b_row1_col8, #T_25b9b_row2_col0, #T_25b9b_row2_col1, #T_25b9b_row2_col2, #T_25b9b_row2_col3, #T_25b9b_row2_col4, #T_25b9b_row2_col5, #T_25b9b_row2_col6, #T_25b9b_row2_col7, #T_25b9b_row2_col8, #T_25b9b_row3_col0, #T_25b9b_row3_col1, #T_25b9b_row3_col2, #T_25b9b_row3_col3, #T_25b9b_row3_col4, #T_25b9b_row3_col5, #T_25b9b_row3_col6, #T_25b9b_row3_col7, #T_25b9b_row3_col8, #T_25b9b_row4_col0, #T_25b9b_row4_col1, #T_25b9b_row4_col2, #T_25b9b_row4_col3, #T_25b9b_row4_col4, #T_25b9b_row4_col5, #T_25b9b_row4_col6, #T_25b9b_row4_col7, #T_25b9b_row4_col8, #T_25b9b_row5_col0, #T_25b9b_row5_col1, #T_25b9b_row5_col2, #T_25b9b_row5_col3, #T_25b9b_row5_col4, #T_25b9b_row5_col5, #T_25b9b_row5_col6, #T_25b9b_row5_col7, #T_25b9b_row5_col8, #T_25b9b_row6_col0, #T_25b9b_row6_col1, #T_25b9b_row6_col2, #T_25b9b_row6_col3, #T_25b9b_row6_col4, #T_25b9b_row6_col5, #T_25b9b_row6_col6, #T_25b9b_row6_col7, #T_25b9b_row6_col8, #T_25b9b_row7_col0, #T_25b9b_row7_col1, #T_25b9b_row7_col2, #T_25b9b_row7_col3, #T_25b9b_row7_col4, #T_25b9b_row7_col5, #T_25b9b_row7_col6, #T_25b9b_row7_col7, #T_25b9b_row7_col8, #T_25b9b_row8_col0, #T_25b9b_row8_col1, #T_25b9b_row8_col2, #T_25b9b_row8_col3, #T_25b9b_row8_col4, #T_25b9b_row8_col5, #T_25b9b_row8_col6, #T_25b9b_row8_col7, #T_25b9b_row8_col8, #T_25b9b_row9_col0, #T_25b9b_row9_col1, #T_25b9b_row9_col2, #T_25b9b_row9_col3, #T_25b9b_row9_col4, #T_25b9b_row9_col5, #T_25b9b_row9_col6, #T_25b9b_row9_col7, #T_25b9b_row9_col8 {\n",
       "  background-color: black;\n",
       "  color: lawngreen;\n",
       "  border-color: white;\n",
       "  color: red;\n",
       "}\n",
       "</style>\n",
       "<table id=\"T_25b9b\">\n",
       "  <thead>\n",
       "    <tr>\n",
       "      <th class=\"blank level0\" >&nbsp;</th>\n",
       "      <th id=\"T_25b9b_level0_col0\" class=\"col_heading level0 col0\" >support</th>\n",
       "      <th id=\"T_25b9b_level0_col1\" class=\"col_heading level0 col1\" >account</th>\n",
       "      <th id=\"T_25b9b_level0_col2\" class=\"col_heading level0 col2\" >greeting</th>\n",
       "      <th id=\"T_25b9b_level0_col3\" class=\"col_heading level0 col3\" >goodbye</th>\n",
       "      <th id=\"T_25b9b_level0_col4\" class=\"col_heading level0 col4\" >speak_representative</th>\n",
       "      <th id=\"T_25b9b_level0_col5\" class=\"col_heading level0 col5\" >challenge_robot</th>\n",
       "      <th id=\"T_25b9b_level0_col6\" class=\"col_heading level0 col6\" >quality</th>\n",
       "      <th id=\"T_25b9b_level0_col7\" class=\"col_heading level0 col7\" >track</th>\n",
       "      <th id=\"T_25b9b_level0_col8\" class=\"col_heading level0 col8\" >discount</th>\n",
       "    </tr>\n",
       "  </thead>\n",
       "  <tbody>\n",
       "    <tr>\n",
       "      <th id=\"T_25b9b_level0_row0\" class=\"row_heading level0 row0\" >0</th>\n",
       "      <td id=\"T_25b9b_row0_col0\" class=\"data row0 col0\" >['very', 'poor', 'feedback', 'very', 'disappointing', 'services']</td>\n",
       "      <td id=\"T_25b9b_row0_col1\" class=\"data row0 col1\" >['email', 'account', 'details']</td>\n",
       "      <td id=\"T_25b9b_row0_col2\" class=\"data row0 col2\" >['hi']</td>\n",
       "      <td id=\"T_25b9b_row0_col3\" class=\"data row0 col3\" >['goodbye']</td>\n",
       "      <td id=\"T_25b9b_row0_col4\" class=\"data row0 col4\" >['talk', 'human', 'please']</td>\n",
       "      <td id=\"T_25b9b_row0_col5\" class=\"data row0 col5\" >['are', 'you', 'a', 'bot']</td>\n",
       "      <td id=\"T_25b9b_row0_col6\" class=\"data row0 col6\" >['product, quality, issue']</td>\n",
       "      <td id=\"T_25b9b_row0_col7\" class=\"data row0 col7\" >['track, my, order']</td>\n",
       "      <td id=\"T_25b9b_row0_col8\" class=\"data row0 col8\" >['offer, discount']</td>\n",
       "    </tr>\n",
       "    <tr>\n",
       "      <th id=\"T_25b9b_level0_row1\" class=\"row_heading level0 row1\" >1</th>\n",
       "      <td id=\"T_25b9b_row1_col0\" class=\"data row1 col0\" >['already', 'done', 'i', 'am', 'frankly', 'fed', 'up', 'with', 'the', 'support', 'you', 'replies', 'are', 'template', 'replies']</td>\n",
       "      <td id=\"T_25b9b_row1_col1\" class=\"data row1 col1\" >['email', 'account', 'details']</td>\n",
       "      <td id=\"T_25b9b_row1_col2\" class=\"data row1 col2\" >['hello']</td>\n",
       "      <td id=\"T_25b9b_row1_col3\" class=\"data row1 col3\" >['bye']</td>\n",
       "      <td id=\"T_25b9b_row1_col4\" class=\"data row1 col4\" >['let', 'me', 'talk', 'to', 'support']</td>\n",
       "      <td id=\"T_25b9b_row1_col5\" class=\"data row1 col5\" >['are', 'you', 'real']</td>\n",
       "      <td id=\"T_25b9b_row1_col6\" class=\"data row1 col6\" >['quality, concerns, product, received']</td>\n",
       "      <td id=\"T_25b9b_row1_col7\" class=\"data row1 col7\" >['where, is, my, package']</td>\n",
       "      <td id=\"T_25b9b_row1_col8\" class=\"data row1 col8\" >['sale, discount']</td>\n",
       "    </tr>\n",
       "    <tr>\n",
       "      <th id=\"T_25b9b_level0_row2\" class=\"row_heading level0 row2\" >2</th>\n",
       "      <td id=\"T_25b9b_row2_col0\" class=\"data row2 col0\" >['very', 'poor', 'feedback', 'very', 'disappointing', 'services']</td>\n",
       "      <td id=\"T_25b9b_row2_col1\" class=\"data row2 col1\" >['email', 'account', 'details']</td>\n",
       "      <td id=\"T_25b9b_row2_col2\" class=\"data row2 col2\" >['what', 'is', 'up']</td>\n",
       "      <td id=\"T_25b9b_row2_col3\" class=\"data row2 col3\" >['thank']</td>\n",
       "      <td id=\"T_25b9b_row2_col4\" class=\"data row2 col4\" >['can', 'i', 'speak', 'agent', 'person']</td>\n",
       "      <td id=\"T_25b9b_row2_col5\" class=\"data row2 col5\" >['are', 'you', 'an', 'AI']</td>\n",
       "      <td id=\"T_25b9b_row2_col6\" class=\"data row2 col6\" >['received, item, quality, problem']</td>\n",
       "      <td id=\"T_25b9b_row2_col7\" class=\"data row2 col7\" >['locate, my, shipment']</td>\n",
       "      <td id=\"T_25b9b_row2_col8\" class=\"data row2 col8\" >['price, discount']</td>\n",
       "    </tr>\n",
       "    <tr>\n",
       "      <th id=\"T_25b9b_level0_row3\" class=\"row_heading level0 row3\" >3</th>\n",
       "      <td id=\"T_25b9b_row3_col0\" class=\"data row3 col0\" >['can', 'see', 'you', 'have', 'replied', 'to', 'others', 'who', 'tweeted', 'after', 'me', 'i', 'am', 'a', 'v', 'unhappy', 'prime', 'customer', 'onus', 'on', 'me', 'to', 'go', 'out', 'of', 'my', 'way', 'to', 'return', 'item', 'when', 'wrong', 'item', 'was', 'sent']</td>\n",
       "      <td id=\"T_25b9b_row3_col1\" class=\"data row3 col1\" >['the', 'credit', 'card', 'information', 'is', 'correct']</td>\n",
       "      <td id=\"T_25b9b_row3_col2\" class=\"data row3 col2\" >['good', 'morning']</td>\n",
       "      <td id=\"T_25b9b_row3_col3\" class=\"data row3 col3\" >['thanks']</td>\n",
       "      <td id=\"T_25b9b_row3_col4\" class=\"data row3 col4\" >['connect', 'me', 'to', 'a', 'human']</td>\n",
       "      <td id=\"T_25b9b_row3_col5\" class=\"data row3 col5\" >['are', 'you', 'a', 'computer']</td>\n",
       "      <td id=\"T_25b9b_row3_col6\" class=\"data row3 col6\" >['need, help, with, product, quality']</td>\n",
       "      <td id=\"T_25b9b_row3_col7\" class=\"data row3 col7\" >['find, my, delivery']</td>\n",
       "      <td id=\"T_25b9b_row3_col8\" class=\"data row3 col8\" >['promotion, discount']</td>\n",
       "    </tr>\n",
       "    <tr>\n",
       "      <th id=\"T_25b9b_level0_row4\" class=\"row_heading level0 row4\" >4</th>\n",
       "      <td id=\"T_25b9b_row4_col0\" class=\"data row4 col0\" >['my', 'issue', 'is', 'not', 'resolved', 'really', 'should', 'stop', 'business', 'in', 'india']</td>\n",
       "      <td id=\"T_25b9b_row4_col1\" class=\"data row4 col1\" >['account', 'email', 'email']</td>\n",
       "      <td id=\"T_25b9b_row4_col2\" class=\"data row4 col2\" >['good', 'afternoon']</td>\n",
       "      <td id=\"T_25b9b_row4_col3\" class=\"data row4 col3\" >['done']</td>\n",
       "      <td id=\"T_25b9b_row4_col4\" class=\"data row4 col4\" >['need', 'to', 'speak', 'to', 'a', 'representative']</td>\n",
       "      <td id=\"T_25b9b_row4_col5\" class=\"data row4 col5\" >['who', 'am', 'I', 'talking', 'to']</td>\n",
       "      <td id=\"T_25b9b_row4_col6\" class=\"data row4 col6\" >['product, not, as, expected, quality']</td>\n",
       "      <td id=\"T_25b9b_row4_col7\" class=\"data row4 col7\" >['check, my, order, status']</td>\n",
       "      <td id=\"T_25b9b_row4_col8\" class=\"data row4 col8\" >['deal, discount']</td>\n",
       "    </tr>\n",
       "    <tr>\n",
       "      <th id=\"T_25b9b_level0_row5\" class=\"row_heading level0 row5\" >5</th>\n",
       "      <td id=\"T_25b9b_row5_col0\" class=\"data row5 col0\" >['everyday', 'following', 'up', 'with', 'you', 'are', 'mail', 'support', 'for', 'past', 'days', 'they', 'kept', 'me', 'on', 'wait', 'and', 'from', 'last', 'couple', 'of', 'days', 'they', 'are', 'not', 'even', 'responding', 'to', 'the', 'mails', 'such', 'a', 'worthless', 'service', 'no', 'one', 'cares']</td>\n",
       "      <td id=\"T_25b9b_row5_col1\" class=\"data row5 col1\" >['my', 'account', 'login', 'is', 'email']</td>\n",
       "      <td id=\"T_25b9b_row5_col2\" class=\"data row5 col2\" >['good', 'evening']</td>\n",
       "      <td id=\"T_25b9b_row5_col3\" class=\"data row5 col3\" >['see', 'you']</td>\n",
       "      <td id=\"T_25b9b_row5_col4\" class=\"data row5 col4\" >['can', 'you', 'put', 'me', 'through', 'to', 'support']</td>\n",
       "      <td id=\"T_25b9b_row5_col5\" class=\"data row5 col5\" >['is', 'this', 'a', 'human']</td>\n",
       "      <td id=\"T_25b9b_row5_col6\" class=\"data row5 col6\" >['how, to, return, poor, quality, item']</td>\n",
       "      <td id=\"T_25b9b_row5_col7\" class=\"data row5 col7\" >['track, my, shipment']</td>\n",
       "      <td id=\"T_25b9b_row5_col8\" class=\"data row5 col8\" >['markdown, discount']</td>\n",
       "    </tr>\n",
       "    <tr>\n",
       "      <th id=\"T_25b9b_level0_row6\" class=\"row_heading level0 row6\" >6</th>\n",
       "      <td id=\"T_25b9b_row6_col0\" class=\"data row6 col0\" >['i', 'have', 'already', 'written', 'item', 'delivery', 'feedback', 'but', 'no', 'response', 'you', 'have', 'waste', 'rural', 'service', 'than', 'others']</td>\n",
       "      <td id=\"T_25b9b_row6_col1\" class=\"data row6 col1\" >['account', 'email', 'email']</td>\n",
       "      <td id=\"T_25b9b_row6_col2\" class=\"data row6 col2\" >['good', 'night']</td>\n",
       "      <td id=\"T_25b9b_row6_col3\" class=\"data row6 col3\" >['see', 'you', 'later']</td>\n",
       "      <td id=\"T_25b9b_row6_col4\" class=\"data row6 col4\" >['human', 'assistance', 'required']</td>\n",
       "      <td id=\"T_25b9b_row6_col5\" class=\"data row6 col5\" >['am', 'I', 'talking', 'to', 'a', 'person']</td>\n",
       "      <td id=\"T_25b9b_row6_col6\" class=\"data row6 col6\" >['experiencing, quality, issues, with, order']</td>\n",
       "      <td id=\"T_25b9b_row6_col7\" class=\"data row6 col7\" >['where, is, my, order']</td>\n",
       "      <td id=\"T_25b9b_row6_col8\" class=\"data row6 col8\" >['special, discount']</td>\n",
       "    </tr>\n",
       "    <tr>\n",
       "      <th id=\"T_25b9b_level0_row7\" class=\"row_heading level0 row7\" >7</th>\n",
       "      <td id=\"T_25b9b_row7_col0\" class=\"data row7 col0\" >['care', 'to', 'reply']</td>\n",
       "      <td id=\"T_25b9b_row7_col1\" class=\"data row7 col1\" >['your', 'correspondence', 'does', 'not', 'address', 'the', 'problem', 'i', 'am', 'not', 'interested', 'in', 'knowing', 'why', 'order', 'is', 'delayed', 'just', 'refund', 'my', 'amount', 'without', 'excuse']</td>\n",
       "      <td id=\"T_25b9b_row7_col2\" class=\"data row7 col2\" >['hey']</td>\n",
       "      <td id=\"T_25b9b_row7_col3\" class=\"data row7 col3\" >['take', 'care']</td>\n",
       "      <td id=\"T_25b9b_row7_col4\" class=\"data row7 col4\" >['i', 'want', 'to', 'talk', 'to', 'a', 'live', 'person']</td>\n",
       "      <td id=\"T_25b9b_row7_col5\" class=\"data row7 col5\" >['are', 'you', 'a', 'real', 'person']</td>\n",
       "      <td id=\"T_25b9b_row7_col6\" class=\"data row7 col6\" >['product, received, quality, is, poor']</td>\n",
       "      <td id=\"T_25b9b_row7_col7\" class=\"data row7 col7\" >['track, my, package']</td>\n",
       "      <td id=\"T_25b9b_row7_col8\" class=\"data row7 col8\" >['bargain, discount']</td>\n",
       "    </tr>\n",
       "    <tr>\n",
       "      <th id=\"T_25b9b_level0_row8\" class=\"row_heading level0 row8\" >8</th>\n",
       "      <td id=\"T_25b9b_row8_col0\" class=\"data row8 col0\" >['package', 'was', 'delivered', 'at', 'am', 'thanks', 'for', 'your', 'help', 'nonetheless', 'it', 'was', 'not', 'a', 'satisfactory', 'experience', 'after', 'a', 'decade', 'long', 'relationship']</td>\n",
       "      <td id=\"T_25b9b_row8_col1\" class=\"data row8 col1\" >['no', 'emails', 'no', 'reason', 'for', 'delay']</td>\n",
       "      <td id=\"T_25b9b_row8_col2\" class=\"data row8 col2\" >['yo']</td>\n",
       "      <td id=\"T_25b9b_row8_col3\" class=\"data row8 col3\" >['farewell']</td>\n",
       "      <td id=\"T_25b9b_row8_col4\" class=\"data row8 col4\" >['how', 'can', 'i', 'speak', 'with', 'an', 'agent']</td>\n",
       "      <td id=\"T_25b9b_row8_col5\" class=\"data row8 col5\" >['is', 'this', 'a', 'robot']</td>\n",
       "      <td id=\"T_25b9b_row8_col6\" class=\"data row8 col6\" >['requesting, refund, due, to, poor, quality']</td>\n",
       "      <td id=\"T_25b9b_row8_col7\" class=\"data row8 col7\" >['trace, my, delivery']</td>\n",
       "      <td id=\"T_25b9b_row8_col8\" class=\"data row8 col8\" >['clearance, discount']</td>\n",
       "    </tr>\n",
       "    <tr>\n",
       "      <th id=\"T_25b9b_level0_row9\" class=\"row_heading level0 row9\" >9</th>\n",
       "      <td id=\"T_25b9b_row9_col0\" class=\"data row9 col0\" >['check', 'out', 'you', 'are', 'mail', 'and', 'my', 'reply', 'below', 'it', 'is', 'a', 'update', 'not', 'resolution', 'i', 'want', 'resolution', 'not', 'excuses']</td>\n",
       "      <td id=\"T_25b9b_row9_col1\" class=\"data row9 col1\" >['customer', 'service', 'just', 'hung', 'up', 'on', 'me', 'fax', 'number', 'does', 'not', 'work', 'your', 'address', 'verification', 'process', 'is', 'a', 'nightmare', 'its', 'guys']</td>\n",
       "      <td id=\"T_25b9b_row9_col2\" class=\"data row9 col2\" >['howdy']</td>\n",
       "      <td id=\"T_25b9b_row9_col3\" class=\"data row9 col3\" >['catch', 'you', 'later']</td>\n",
       "      <td id=\"T_25b9b_row9_col4\" class=\"data row9 col4\" >['let', 'me', 'talk', 'to', 'customer', 'service']</td>\n",
       "      <td id=\"T_25b9b_row9_col5\" class=\"data row9 col5\" >['are', 'you', 'a', 'machine']</td>\n",
       "      <td id=\"T_25b9b_row9_col6\" class=\"data row9 col6\" >[\"item, quality, doesn't, meet, expectations\"]</td>\n",
       "      <td id=\"T_25b9b_row9_col7\" class=\"data row9 col7\" >['locate, my, order']</td>\n",
       "      <td id=\"T_25b9b_row9_col8\" class=\"data row9 col8\" >['rebate, discount']</td>\n",
       "    </tr>\n",
       "  </tbody>\n",
       "</table>\n"
      ],
      "text/plain": [
       "<pandas.io.formats.style.Styler at 0x2e8630c20>"
      ]
     },
     "execution_count": 32,
     "metadata": {},
     "output_type": "execute_result"
    }
   ],
   "source": [
    "# Save the training data to a serialized file\n",
    "train.to_pickle(\"../objects/train.pkl\")\n",
    "\n",
    "# Load the train file \n",
    "train = pd.read_pickle(\"../objects/train.pkl\")\n",
    "\n",
    "## Style the display \n",
    "show = lambda x: x.head(10).style.set_properties(**{'background-color': 'black',                                                   \n",
    "                                    'color': 'lawngreen',                       \n",
    "                                    'border-color': 'white'})\\\n",
    ".map(lambda x: f\"color: {'lawngreen' if isinstance(x,str) else 'red'}\")\\\n",
    ".background_gradient(cmap='Blues')\n",
    "\n",
    "print(train.shape)\n",
    "show(train)"
   ]
  },
  {
   "cell_type": "markdown",
   "metadata": {},
   "source": [
    "I am quite pleased with these. They seem quite promising if I inspect them!!!. Just don't worry too much about the preprocessing thing and stuff. I just want my model to be generalizable overall... "
   ]
  },
  {
   "cell_type": "code",
   "execution_count": 33,
   "metadata": {},
   "outputs": [
    {
     "data": {
      "text/html": [
       "<div>\n",
       "<style scoped>\n",
       "    .dataframe tbody tr th:only-of-type {\n",
       "        vertical-align: middle;\n",
       "    }\n",
       "\n",
       "    .dataframe tbody tr th {\n",
       "        vertical-align: top;\n",
       "    }\n",
       "\n",
       "    .dataframe thead th {\n",
       "        text-align: right;\n",
       "    }\n",
       "</style>\n",
       "<table border=\"1\" class=\"dataframe\">\n",
       "  <thead>\n",
       "    <tr style=\"text-align: right;\">\n",
       "      <th></th>\n",
       "      <th>Intent</th>\n",
       "      <th>Utterance</th>\n",
       "    </tr>\n",
       "  </thead>\n",
       "  <tbody>\n",
       "    <tr>\n",
       "      <th>0</th>\n",
       "      <td>support</td>\n",
       "      <td>[very, poor, feedback, very, disappointing, se...</td>\n",
       "    </tr>\n",
       "    <tr>\n",
       "      <th>1</th>\n",
       "      <td>account</td>\n",
       "      <td>[email, account, details]</td>\n",
       "    </tr>\n",
       "    <tr>\n",
       "      <th>2</th>\n",
       "      <td>greeting</td>\n",
       "      <td>[hi]</td>\n",
       "    </tr>\n",
       "    <tr>\n",
       "      <th>3</th>\n",
       "      <td>goodbye</td>\n",
       "      <td>[goodbye]</td>\n",
       "    </tr>\n",
       "    <tr>\n",
       "      <th>4</th>\n",
       "      <td>speak_representative</td>\n",
       "      <td>[talk, human, please]</td>\n",
       "    </tr>\n",
       "    <tr>\n",
       "      <th>...</th>\n",
       "      <td>...</td>\n",
       "      <td>...</td>\n",
       "    </tr>\n",
       "    <tr>\n",
       "      <th>8995</th>\n",
       "      <td>speak_representative</td>\n",
       "      <td>[please, transfer, me, to, customer, service, ...</td>\n",
       "    </tr>\n",
       "    <tr>\n",
       "      <th>8996</th>\n",
       "      <td>challenge_robot</td>\n",
       "      <td>[is, this, a, robotic, support, agent]</td>\n",
       "    </tr>\n",
       "    <tr>\n",
       "      <th>8997</th>\n",
       "      <td>quality</td>\n",
       "      <td>[no, call, no, message, what, a, fantastic, re...</td>\n",
       "    </tr>\n",
       "    <tr>\n",
       "      <th>8998</th>\n",
       "      <td>track</td>\n",
       "      <td>[tba]</td>\n",
       "    </tr>\n",
       "    <tr>\n",
       "      <th>8999</th>\n",
       "      <td>discount</td>\n",
       "      <td>[bought, a, lenovo, z, delivered, on, th, nove...</td>\n",
       "    </tr>\n",
       "  </tbody>\n",
       "</table>\n",
       "<p>9000 rows × 2 columns</p>\n",
       "</div>"
      ],
      "text/plain": [
       "                    Intent                                          Utterance\n",
       "0                  support  [very, poor, feedback, very, disappointing, se...\n",
       "1                  account                          [email, account, details]\n",
       "2                 greeting                                               [hi]\n",
       "3                  goodbye                                          [goodbye]\n",
       "4     speak_representative                              [talk, human, please]\n",
       "...                    ...                                                ...\n",
       "8995  speak_representative  [please, transfer, me, to, customer, service, ...\n",
       "8996       challenge_robot             [is, this, a, robotic, support, agent]\n",
       "8997               quality  [no, call, no, message, what, a, fantastic, re...\n",
       "8998                 track                                              [tba]\n",
       "8999              discount  [bought, a, lenovo, z, delivered, on, th, nove...\n",
       "\n",
       "[9000 rows x 2 columns]"
      ]
     },
     "execution_count": 33,
     "metadata": {},
     "output_type": "execute_result"
    }
   ],
   "source": [
    "# Convert to long dataframe format from wide so my data can read it \n",
    "neat_train = pd.DataFrame(train.T.unstack()).reset_index().iloc[:,1:].rename(columns={\"level_1\":\"Intent\", 0: \"Utterance\"})\n",
    "neat_train"
   ]
  },
  {
   "cell_type": "markdown",
   "metadata": {},
   "source": [
    "## Intent Bucket Evaluation"
   ]
  },
  {
   "cell_type": "code",
   "execution_count": 34,
   "metadata": {},
   "outputs": [],
   "source": [
    "from sklearn.feature_extraction.text import CountVectorizer\n",
    "import matplotlib.pyplot as plt\n",
    "import seaborn as sns"
   ]
  },
  {
   "cell_type": "code",
   "execution_count": 35,
   "metadata": {},
   "outputs": [],
   "source": [
    "# Storing word rank table dataframes in this dict\n",
    "wordranks = {}\n",
    "\n",
    "# For visualizing top 10\n",
    "def top10_bagofwords(data, output_name, title):\n",
    "    ''' Taking as input the data and plots the top 10 words based on counts in this text data'''\n",
    "    bagofwords = CountVectorizer()\n",
    "    # Output will be a sparse matrix\n",
    "    inbound = bagofwords.fit_transform(data)\n",
    "    # Inspecting of often contractions and colloquial language is used\n",
    "    word_counts = np.array(np.sum(inbound, axis=0)).reshape((-1,))\n",
    "    words = np.array(bagofwords.get_feature_names_out())\n",
    "    words_df = pd.DataFrame({\"word\":words, \n",
    "                             \"count\":word_counts})\n",
    "    words_rank = words_df.sort_values(by=\"count\", ascending=False)\n",
    "    wordranks[output_name] = words_rank\n",
    "    # words_rank.to_csv('words_rank.csv') # Storing it in a csv so I can inspect and go through it myself\n",
    "    # Visualizing top 10 words\n",
    "    plt.figure(figsize=(12,6))\n",
    "    sns.barplot(x=words_rank['word'][:10], y=words_rank['count'][:10], hue=words_rank['word'][:10], palette = 'inferno')\n",
    "    plt.title(title)\n",
    "    \n",
    "    # Saving\n",
    "    # plt.savefig(f'reports/figures/{output_name}.png')\n",
    "    \n",
    "    plt.show()"
   ]
  },
  {
   "cell_type": "code",
   "execution_count": 101,
   "metadata": {},
   "outputs": [
    {
     "data": {
      "image/png": "[encoded data removed]",
      "text/plain": [
       "<Figure size 1200x600 with 1 Axes>"
      ]
     },
     "metadata": {},
     "output_type": "display_data"
    },
    {
     "data": {
      "image/png": "[encoded data removed]",
      "text/plain": [
       "<Figure size 1200x600 with 1 Axes>"
      ]
     },
     "metadata": {},
     "output_type": "display_data"
    },
    {
     "data": {
      "image/png": "[encoded data removed]",
      "text/plain": [
       "<Figure size 1200x600 with 1 Axes>"
      ]
     },
     "metadata": {},
     "output_type": "display_data"
    },
    {
     "data": {
      "image/png": "[encoded data removed]",
      "text/plain": [
       "<Figure size 1200x600 with 1 Axes>"
      ]
     },
     "metadata": {},
     "output_type": "display_data"
    },
    {
     "data": {
      "image/png": "[encoded data removed]",
      "text/plain": [
       "<Figure size 1200x600 with 1 Axes>"
      ]
     },
     "metadata": {},
     "output_type": "display_data"
    },
    {
     "data": {
      "image/png": "[encoded data removed]",
      "text/plain": [
       "<Figure size 1200x600 with 1 Axes>"
      ]
     },
     "metadata": {},
     "output_type": "display_data"
    },
    {
     "data": {
      "image/png": "[encoded data removed]",
      "text/plain": [
       "<Figure size 1200x600 with 1 Axes>"
      ]
     },
     "metadata": {},
     "output_type": "display_data"
    },
    {
     "data": {
      "image/png": "[encoded data removed]",
      "text/plain": [
       "<Figure size 1200x600 with 1 Axes>"
      ]
     },
     "metadata": {},
     "output_type": "display_data"
    },
    {
     "data": {
      "image/png": "[encoded data removed]",
      "text/plain": [
       "<Figure size 1200x600 with 1 Axes>"
      ]
     },
     "metadata": {},
     "output_type": "display_data"
    }
   ],
   "source": [
    "# Doing my bucket evaluations here - seeing what each distinct bucket intent means\n",
    "for i in train.columns:\n",
    "    top10_bagofwords(train[i].apply(\" \".join), f'bucket_eval/{i}', f'Top 10 Words in {i} Intent')"
   ]
  },
  {
   "cell_type": "code",
   "execution_count": 36,
   "metadata": {},
   "outputs": [
    {
     "data": {
      "text/plain": [
       "dict_keys([])"
      ]
     },
     "execution_count": 36,
     "metadata": {},
     "output_type": "execute_result"
    }
   ],
   "source": [
    "wordranks.keys()"
   ]
  },
  {
   "cell_type": "code",
   "execution_count": 38,
   "metadata": {},
   "outputs": [],
   "source": [
    "# Investigating bag of word frequencies at a more granular level\n",
    "# wordranks[\"bucket_eval/speak_representative\"].head(50)"
   ]
  },
  {
   "cell_type": "code",
   "execution_count": 104,
   "metadata": {},
   "outputs": [
    {
     "name": "stdout",
     "output_type": "stream",
     "text": [
      "{'count', 'word'}\n"
     ]
    },
    {
     "ename": "",
     "evalue": "",
     "output_type": "error",
     "traceback": [
      "\u001b[1;31mThe Kernel crashed while executing code in the current cell or a previous cell. \n",
      "\u001b[1;31mPlease review the code in the cell(s) to identify a possible cause of the failure. \n",
      "\u001b[1;31mClick <a href='https://aka.ms/vscodeJupyterKernelCrash'>here</a> for more info. \n",
      "\u001b[1;31mView Jupyter <a href='command:jupyter.viewOutput'>log</a> for further details."
     ]
    }
   ],
   "source": [
    "# Flatten the list of all values and count occurences \n",
    "from collections import Counter \n",
    "all_vals = [val for vals in wordranks.values() for val in vals]\n",
    "value_counts = Counter(all_vals)\n",
    "\n",
    "# Filter values that appear in more than one key \n",
    "values_in_multiple_keys = {value for value, count in value_counts.items() if count > 1}\n",
    "\n",
    "# Print the filtered values \n",
    "print(values_in_multiple_keys)"
   ]
  },
  {
   "cell_type": "markdown",
   "metadata": {},
   "source": [
    "**Here I can see there are only two values which are shared across any two keys. So it thinks good level of preprocessing has been achieved in identifying and segregating keys** "
   ]
  },
  {
   "cell_type": "code",
   "execution_count": 86,
   "metadata": {},
   "outputs": [
    {
     "data": {
      "text/plain": [
       "['track',\n",
       " 'support',\n",
       " 'quality',\n",
       " 'discount',\n",
       " 'account',\n",
       " 'speak_representative',\n",
       " 'greeting',\n",
       " 'goodbye',\n",
       " 'challenge_robot']"
      ]
     },
     "execution_count": 86,
     "metadata": {},
     "output_type": "execute_result"
    }
   ],
   "source": [
    "[*train.columns]"
   ]
  },
  {
   "cell_type": "markdown",
   "metadata": {},
   "source": [
    "### Generating text file for RASA \n",
    "Rasa API requires this format of data to be inputted into their bot. I work with my own training data in train, however this was made for experimenting with their tool."
   ]
  },
  {
   "cell_type": "code",
   "execution_count": 28,
   "metadata": {},
   "outputs": [],
   "source": [
    "#TODO: Will do this later"
   ]
  },
  {
   "cell_type": "markdown",
   "metadata": {},
   "source": [
    "**Overview of Spacy's Scattertext Tool** \n",
    "- Scattertext is an advanced tool from Spacy that helps in identifying and visualizing distinguishing terms in small to medium-sized text datasets. It generates interactive scatter plots with clear, non-overlapping labels, making it an effective tool for exploratory data analysis (EDA). This visualization facilitates a better understanding of term distribution and relevance across different categories within the corpus.\n",
    "\n",
    "**Capabilities of Scattertext**: \n",
    "\n",
    "- **Highlighting Distinctive Terms**: It identifies and highlights terms that are unique or prevalent in specific categories of the text data.\n",
    "- **Interactive Visualizations**: The tool creates dynamic scatter plots that users can interact with, providing a more in-depth analysis.\n",
    "- **Clear Labeling**: The tool ensures that term labels on the scatter plot do not overlap, which enhances readability and clarity. According to the documentation, Scattertext is \"a tool for finding distinguishing terms in small-to-medium-sized corpora, and presenting them in a sexy, interactive scatter plot with non-overlapping term labels.\""
   ]
  },
  {
   "cell_type": "code",
   "execution_count": 75,
   "metadata": {},
   "outputs": [
    {
     "ename": "TypeError",
     "evalue": "term_freqs() missing 1 required positional argument: 'data'",
     "output_type": "error",
     "traceback": [
      "\u001b[0;31m---------------------------------------------------------------------------\u001b[0m",
      "\u001b[0;31mTypeError\u001b[0m                                 Traceback (most recent call last)",
      "Cell \u001b[0;32mIn[75], line 14\u001b[0m\n\u001b[1;32m     11\u001b[0m     words_rank \u001b[38;5;241m=\u001b[39m words_df\u001b[38;5;241m.\u001b[39msort_values(by\u001b[38;5;241m=\u001b[39m\u001b[38;5;124m\"\u001b[39m\u001b[38;5;124mcount\u001b[39m\u001b[38;5;124m\"\u001b[39m, ascending\u001b[38;5;241m=\u001b[39m\u001b[38;5;28;01mFalse\u001b[39;00m)\n\u001b[1;32m     12\u001b[0m     \u001b[38;5;28;01mreturn\u001b[39;00m words_rank\n\u001b[0;32m---> 14\u001b[0m update_df \u001b[38;5;241m=\u001b[39m \u001b[43mterm_freqs\u001b[49m\u001b[43m(\u001b[49m\u001b[38;5;124;43m'\u001b[39;49m\u001b[38;5;124;43mupdate\u001b[39;49m\u001b[38;5;124;43m'\u001b[39;49m\u001b[43m)\u001b[49m\n\u001b[1;32m     15\u001b[0m repair_df \u001b[38;5;241m=\u001b[39m term_freqs(\u001b[38;5;124m'\u001b[39m\u001b[38;5;124mrepair\u001b[39m\u001b[38;5;124m'\u001b[39m)\n\u001b[1;32m     17\u001b[0m combined \u001b[38;5;241m=\u001b[39m pd\u001b[38;5;241m.\u001b[39mconcat([update_df, repair_df], axis \u001b[38;5;241m=\u001b[39m \u001b[38;5;241m0\u001b[39m)\n",
      "\u001b[0;31mTypeError\u001b[0m: term_freqs() missing 1 required positional argument: 'data'"
     ]
    }
   ],
   "source": [
    "def term_freqs(intent_name, data):\n",
    "\n",
    "    bagofwords = CountVectorizer()\n",
    "    # Output will be a sparse matrix \n",
    "    inbound = bagofwords.fit_transform(data[data[\"Intent\"] == intent_name][\"Utterance\"])\n",
    "    # Inspecting of often contractions and colloquial language is used\n",
    "    word_counts = np.array(np.sum(inbound, axis=0)).reshape((-1,))\n",
    "    words = np.array(bagofwords.get_feature_names())\n",
    "    words_df = pd.DataFrame({\"word\":words, \n",
    "                             \"count\":word_counts})\n",
    "    words_rank = words_df.sort_values(by=\"count\", ascending=False)\n",
    "    return words_rank\n",
    "\n",
    "update_df = term_freqs('update')\n",
    "repair_df = term_freqs('repair')\n",
    "\n",
    "combined = pd.concat([update_df, repair_df], axis = 0)"
   ]
  },
  {
   "cell_type": "code",
   "execution_count": null,
   "metadata": {},
   "outputs": [],
   "source": [
    "#TODO: Will do this later"
   ]
  }
 ],
 "metadata": {
  "kernelspec": {
   "display_name": "amazon_support",
   "language": "python",
   "name": ".venv"
  },
  "language_info": {
   "codemirror_mode": {
    "name": "ipython",
    "version": 3
   },
   "file_extension": ".py",
   "mimetype": "text/x-python",
   "name": "python",
   "nbconvert_exporter": "python",
   "pygments_lexer": "ipython3",
   "version": "3.12.3"
  }
 },
 "nbformat": 4,
 "nbformat_minor": 2
}
